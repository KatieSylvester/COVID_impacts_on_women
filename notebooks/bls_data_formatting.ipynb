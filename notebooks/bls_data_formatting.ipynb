{
 "cells": [
  {
   "cell_type": "code",
   "execution_count": 1,
   "metadata": {},
   "outputs": [],
   "source": [
    "import requests\n",
    "import json\n",
    "import prettytable\n",
    "import pandas as pd"
   ]
  },
  {
   "cell_type": "markdown",
   "metadata": {},
   "source": [
    "### Read-in and format Civilian Population Data"
   ]
  },
  {
   "cell_type": "code",
   "execution_count": 2,
   "metadata": {},
   "outputs": [],
   "source": [
    "civilian_pop=pd.read_csv('../data/bls/civilian_noninstitutional_population_LNU00000000.csv')"
   ]
  },
  {
   "cell_type": "code",
   "execution_count": 3,
   "metadata": {},
   "outputs": [
    {
     "data": {
      "text/html": [
       "<div>\n",
       "<style scoped>\n",
       "    .dataframe tbody tr th:only-of-type {\n",
       "        vertical-align: middle;\n",
       "    }\n",
       "\n",
       "    .dataframe tbody tr th {\n",
       "        vertical-align: top;\n",
       "    }\n",
       "\n",
       "    .dataframe thead th {\n",
       "        text-align: right;\n",
       "    }\n",
       "</style>\n",
       "<table border=\"1\" class=\"dataframe\">\n",
       "  <thead>\n",
       "    <tr style=\"text-align: right;\">\n",
       "      <th></th>\n",
       "      <th>Year</th>\n",
       "      <th>Jan</th>\n",
       "      <th>Feb</th>\n",
       "      <th>Mar</th>\n",
       "      <th>Apr</th>\n",
       "      <th>May</th>\n",
       "      <th>Jun</th>\n",
       "      <th>Jul</th>\n",
       "      <th>Aug</th>\n",
       "      <th>Sep</th>\n",
       "      <th>Oct</th>\n",
       "      <th>Nov</th>\n",
       "      <th>Dec</th>\n",
       "    </tr>\n",
       "  </thead>\n",
       "  <tbody>\n",
       "    <tr>\n",
       "      <th>0</th>\n",
       "      <td>1948</td>\n",
       "      <td>102603</td>\n",
       "      <td>102698</td>\n",
       "      <td>102771</td>\n",
       "      <td>102831</td>\n",
       "      <td>102923</td>\n",
       "      <td>102992</td>\n",
       "      <td>103216</td>\n",
       "      <td>103240</td>\n",
       "      <td>103291</td>\n",
       "      <td>103361</td>\n",
       "      <td>103424</td>\n",
       "      <td>103468</td>\n",
       "    </tr>\n",
       "    <tr>\n",
       "      <th>1</th>\n",
       "      <td>1949</td>\n",
       "      <td>103529</td>\n",
       "      <td>103559</td>\n",
       "      <td>103665</td>\n",
       "      <td>103739</td>\n",
       "      <td>103845</td>\n",
       "      <td>103930</td>\n",
       "      <td>104042</td>\n",
       "      <td>104121</td>\n",
       "      <td>104219</td>\n",
       "      <td>104338</td>\n",
       "      <td>104421</td>\n",
       "      <td>104524</td>\n",
       "    </tr>\n",
       "    <tr>\n",
       "      <th>2</th>\n",
       "      <td>1950</td>\n",
       "      <td>104619</td>\n",
       "      <td>104737</td>\n",
       "      <td>104844</td>\n",
       "      <td>104943</td>\n",
       "      <td>105014</td>\n",
       "      <td>105104</td>\n",
       "      <td>105194</td>\n",
       "      <td>105282</td>\n",
       "      <td>105269</td>\n",
       "      <td>105096</td>\n",
       "      <td>104979</td>\n",
       "      <td>104872</td>\n",
       "    </tr>\n",
       "    <tr>\n",
       "      <th>3</th>\n",
       "      <td>1951</td>\n",
       "      <td>104844</td>\n",
       "      <td>104604</td>\n",
       "      <td>104629</td>\n",
       "      <td>104541</td>\n",
       "      <td>104491</td>\n",
       "      <td>104488</td>\n",
       "      <td>104504</td>\n",
       "      <td>104536</td>\n",
       "      <td>104588</td>\n",
       "      <td>104690</td>\n",
       "      <td>104740</td>\n",
       "      <td>104810</td>\n",
       "    </tr>\n",
       "    <tr>\n",
       "      <th>4</th>\n",
       "      <td>1952</td>\n",
       "      <td>104862</td>\n",
       "      <td>104868</td>\n",
       "      <td>104860</td>\n",
       "      <td>104906</td>\n",
       "      <td>104996</td>\n",
       "      <td>105118</td>\n",
       "      <td>105246</td>\n",
       "      <td>105346</td>\n",
       "      <td>105436</td>\n",
       "      <td>105591</td>\n",
       "      <td>105706</td>\n",
       "      <td>105812</td>\n",
       "    </tr>\n",
       "  </tbody>\n",
       "</table>\n",
       "</div>"
      ],
      "text/plain": [
       "   Year     Jan     Feb     Mar     Apr     May     Jun     Jul     Aug  \\\n",
       "0  1948  102603  102698  102771  102831  102923  102992  103216  103240   \n",
       "1  1949  103529  103559  103665  103739  103845  103930  104042  104121   \n",
       "2  1950  104619  104737  104844  104943  105014  105104  105194  105282   \n",
       "3  1951  104844  104604  104629  104541  104491  104488  104504  104536   \n",
       "4  1952  104862  104868  104860  104906  104996  105118  105246  105346   \n",
       "\n",
       "      Sep     Oct     Nov     Dec  \n",
       "0  103291  103361  103424  103468  \n",
       "1  104219  104338  104421  104524  \n",
       "2  105269  105096  104979  104872  \n",
       "3  104588  104690  104740  104810  \n",
       "4  105436  105591  105706  105812  "
      ]
     },
     "execution_count": 3,
     "metadata": {},
     "output_type": "execute_result"
    }
   ],
   "source": [
    "civilian_pop.head()"
   ]
  },
  {
   "cell_type": "code",
   "execution_count": 4,
   "metadata": {},
   "outputs": [
    {
     "data": {
      "text/plain": [
       "Index(['Year', 'Jan', 'Feb', 'Mar', 'Apr', 'May', 'Jun', 'Jul', 'Aug', 'Sep',\n",
       "       'Oct', 'Nov', 'Dec'],\n",
       "      dtype='object')"
      ]
     },
     "execution_count": 4,
     "metadata": {},
     "output_type": "execute_result"
    }
   ],
   "source": [
    "civilian_pop.columns"
   ]
  },
  {
   "cell_type": "code",
   "execution_count": 5,
   "metadata": {},
   "outputs": [
    {
     "data": {
      "text/plain": [
       "Year    0\n",
       "Jan     0\n",
       "Feb     0\n",
       "Mar     0\n",
       "Apr     0\n",
       "May     0\n",
       "Jun     0\n",
       "Jul     0\n",
       "Aug     0\n",
       "Sep     0\n",
       "Oct     0\n",
       "Nov     0\n",
       "Dec     0\n",
       "dtype: int64"
      ]
     },
     "execution_count": 5,
     "metadata": {},
     "output_type": "execute_result"
    }
   ],
   "source": [
    "civilian_pop.isnull().sum()"
   ]
  },
  {
   "cell_type": "code",
   "execution_count": 6,
   "metadata": {},
   "outputs": [],
   "source": [
    "civilian_pop_tall = civilian_pop.melt(id_vars = ['Year'], value_vars=['Jan', 'Feb', 'Mar','Apr','May','Jun','Jul','Aug','Sep','Oct','Nov','Dec'], var_name=['month_name'], value_name='pop')"
   ]
  },
  {
   "cell_type": "code",
   "execution_count": 7,
   "metadata": {},
   "outputs": [],
   "source": [
    "civilian_pop_tall=civilian_pop_tall.rename(columns={'Year':'year',  'pop':'civilian_pop'})"
   ]
  },
  {
   "cell_type": "code",
   "execution_count": 8,
   "metadata": {},
   "outputs": [
    {
     "data": {
      "text/html": [
       "<div>\n",
       "<style scoped>\n",
       "    .dataframe tbody tr th:only-of-type {\n",
       "        vertical-align: middle;\n",
       "    }\n",
       "\n",
       "    .dataframe tbody tr th {\n",
       "        vertical-align: top;\n",
       "    }\n",
       "\n",
       "    .dataframe thead th {\n",
       "        text-align: right;\n",
       "    }\n",
       "</style>\n",
       "<table border=\"1\" class=\"dataframe\">\n",
       "  <thead>\n",
       "    <tr style=\"text-align: right;\">\n",
       "      <th></th>\n",
       "      <th>year</th>\n",
       "      <th>month_name</th>\n",
       "      <th>civilian_pop</th>\n",
       "    </tr>\n",
       "  </thead>\n",
       "  <tbody>\n",
       "    <tr>\n",
       "      <th>0</th>\n",
       "      <td>1948</td>\n",
       "      <td>Jan</td>\n",
       "      <td>102603</td>\n",
       "    </tr>\n",
       "    <tr>\n",
       "      <th>1</th>\n",
       "      <td>1949</td>\n",
       "      <td>Jan</td>\n",
       "      <td>103529</td>\n",
       "    </tr>\n",
       "    <tr>\n",
       "      <th>2</th>\n",
       "      <td>1950</td>\n",
       "      <td>Jan</td>\n",
       "      <td>104619</td>\n",
       "    </tr>\n",
       "    <tr>\n",
       "      <th>3</th>\n",
       "      <td>1951</td>\n",
       "      <td>Jan</td>\n",
       "      <td>104844</td>\n",
       "    </tr>\n",
       "    <tr>\n",
       "      <th>4</th>\n",
       "      <td>1952</td>\n",
       "      <td>Jan</td>\n",
       "      <td>104862</td>\n",
       "    </tr>\n",
       "  </tbody>\n",
       "</table>\n",
       "</div>"
      ],
      "text/plain": [
       "   year month_name civilian_pop\n",
       "0  1948        Jan       102603\n",
       "1  1949        Jan       103529\n",
       "2  1950        Jan       104619\n",
       "3  1951        Jan       104844\n",
       "4  1952        Jan       104862"
      ]
     },
     "execution_count": 8,
     "metadata": {},
     "output_type": "execute_result"
    }
   ],
   "source": [
    "civilian_pop_tall.head()"
   ]
  },
  {
   "cell_type": "code",
   "execution_count": 9,
   "metadata": {},
   "outputs": [],
   "source": [
    "def month_number(counter):\n",
    "    if (counter['month_name'] == 'Jan'):\n",
    "        return 1\n",
    "    elif (counter['month_name'] == 'Feb'):\n",
    "        return 2\n",
    "    elif (counter['month_name'] == 'Mar'):\n",
    "        return 3\n",
    "    elif (counter['month_name'] == 'Apr'):\n",
    "        return 4\n",
    "    elif (counter['month_name'] == 'May'):\n",
    "        return 5\n",
    "    elif (counter['month_name'] == 'Jun'):\n",
    "        return 6\n",
    "    elif (counter['month_name'] == 'Jul'):\n",
    "        return 7\n",
    "    elif (counter['month_name'] == 'Aug'):\n",
    "        return 8\n",
    "    elif (counter['month_name'] == 'Sep'):\n",
    "        return 9\n",
    "    elif (counter['month_name'] == 'Oct'):\n",
    "        return 10\n",
    "    elif (counter['month_name'] == 'Nov'):\n",
    "        return 11\n",
    "    elif (counter['month_name'] == 'Dec'):\n",
    "        return 12\n",
    "    else:\n",
    "        return 'adjust'\n",
    "civilian_pop_tall[\"month\"] = civilian_pop_tall.apply(month_number, axis=1)"
   ]
  },
  {
   "cell_type": "code",
   "execution_count": 10,
   "metadata": {
    "scrolled": true
   },
   "outputs": [
    {
     "data": {
      "text/html": [
       "<div>\n",
       "<style scoped>\n",
       "    .dataframe tbody tr th:only-of-type {\n",
       "        vertical-align: middle;\n",
       "    }\n",
       "\n",
       "    .dataframe tbody tr th {\n",
       "        vertical-align: top;\n",
       "    }\n",
       "\n",
       "    .dataframe thead th {\n",
       "        text-align: right;\n",
       "    }\n",
       "</style>\n",
       "<table border=\"1\" class=\"dataframe\">\n",
       "  <thead>\n",
       "    <tr style=\"text-align: right;\">\n",
       "      <th></th>\n",
       "      <th>year</th>\n",
       "      <th>month_name</th>\n",
       "      <th>civilian_pop</th>\n",
       "      <th>month</th>\n",
       "    </tr>\n",
       "  </thead>\n",
       "  <tbody>\n",
       "    <tr>\n",
       "      <th>0</th>\n",
       "      <td>1948</td>\n",
       "      <td>Jan</td>\n",
       "      <td>102603</td>\n",
       "      <td>1</td>\n",
       "    </tr>\n",
       "    <tr>\n",
       "      <th>1</th>\n",
       "      <td>1949</td>\n",
       "      <td>Jan</td>\n",
       "      <td>103529</td>\n",
       "      <td>1</td>\n",
       "    </tr>\n",
       "    <tr>\n",
       "      <th>2</th>\n",
       "      <td>1950</td>\n",
       "      <td>Jan</td>\n",
       "      <td>104619</td>\n",
       "      <td>1</td>\n",
       "    </tr>\n",
       "    <tr>\n",
       "      <th>3</th>\n",
       "      <td>1951</td>\n",
       "      <td>Jan</td>\n",
       "      <td>104844</td>\n",
       "      <td>1</td>\n",
       "    </tr>\n",
       "    <tr>\n",
       "      <th>4</th>\n",
       "      <td>1952</td>\n",
       "      <td>Jan</td>\n",
       "      <td>104862</td>\n",
       "      <td>1</td>\n",
       "    </tr>\n",
       "  </tbody>\n",
       "</table>\n",
       "</div>"
      ],
      "text/plain": [
       "   year month_name civilian_pop  month\n",
       "0  1948        Jan       102603      1\n",
       "1  1949        Jan       103529      1\n",
       "2  1950        Jan       104619      1\n",
       "3  1951        Jan       104844      1\n",
       "4  1952        Jan       104862      1"
      ]
     },
     "execution_count": 10,
     "metadata": {},
     "output_type": "execute_result"
    }
   ],
   "source": [
    "civilian_pop_tall.head()"
   ]
  },
  {
   "cell_type": "code",
   "execution_count": 11,
   "metadata": {},
   "outputs": [],
   "source": [
    "civilian_pop_tall['date'] = pd.to_datetime(civilian_pop_tall[['year', 'month']].assign(day=1))\n"
   ]
  },
  {
   "cell_type": "code",
   "execution_count": 12,
   "metadata": {},
   "outputs": [],
   "source": [
    "civilian_pop_tall=civilian_pop_tall[['year','month_name','month','date','civilian_pop']]"
   ]
  },
  {
   "cell_type": "code",
   "execution_count": 13,
   "metadata": {},
   "outputs": [],
   "source": [
    "civilian_pop_tall = civilian_pop_tall.sort_values('date')"
   ]
  },
  {
   "cell_type": "code",
   "execution_count": 14,
   "metadata": {
    "scrolled": true
   },
   "outputs": [
    {
     "data": {
      "text/html": [
       "<div>\n",
       "<style scoped>\n",
       "    .dataframe tbody tr th:only-of-type {\n",
       "        vertical-align: middle;\n",
       "    }\n",
       "\n",
       "    .dataframe tbody tr th {\n",
       "        vertical-align: top;\n",
       "    }\n",
       "\n",
       "    .dataframe thead th {\n",
       "        text-align: right;\n",
       "    }\n",
       "</style>\n",
       "<table border=\"1\" class=\"dataframe\">\n",
       "  <thead>\n",
       "    <tr style=\"text-align: right;\">\n",
       "      <th></th>\n",
       "      <th>year</th>\n",
       "      <th>month_name</th>\n",
       "      <th>month</th>\n",
       "      <th>date</th>\n",
       "      <th>civilian_pop</th>\n",
       "    </tr>\n",
       "  </thead>\n",
       "  <tbody>\n",
       "    <tr>\n",
       "      <th>0</th>\n",
       "      <td>1948</td>\n",
       "      <td>Jan</td>\n",
       "      <td>1</td>\n",
       "      <td>1948-01-01</td>\n",
       "      <td>102603</td>\n",
       "    </tr>\n",
       "    <tr>\n",
       "      <th>74</th>\n",
       "      <td>1948</td>\n",
       "      <td>Feb</td>\n",
       "      <td>2</td>\n",
       "      <td>1948-02-01</td>\n",
       "      <td>102698</td>\n",
       "    </tr>\n",
       "    <tr>\n",
       "      <th>148</th>\n",
       "      <td>1948</td>\n",
       "      <td>Mar</td>\n",
       "      <td>3</td>\n",
       "      <td>1948-03-01</td>\n",
       "      <td>102771</td>\n",
       "    </tr>\n",
       "    <tr>\n",
       "      <th>222</th>\n",
       "      <td>1948</td>\n",
       "      <td>Apr</td>\n",
       "      <td>4</td>\n",
       "      <td>1948-04-01</td>\n",
       "      <td>102831</td>\n",
       "    </tr>\n",
       "    <tr>\n",
       "      <th>296</th>\n",
       "      <td>1948</td>\n",
       "      <td>May</td>\n",
       "      <td>5</td>\n",
       "      <td>1948-05-01</td>\n",
       "      <td>102923</td>\n",
       "    </tr>\n",
       "  </tbody>\n",
       "</table>\n",
       "</div>"
      ],
      "text/plain": [
       "     year month_name  month       date civilian_pop\n",
       "0    1948        Jan      1 1948-01-01       102603\n",
       "74   1948        Feb      2 1948-02-01       102698\n",
       "148  1948        Mar      3 1948-03-01       102771\n",
       "222  1948        Apr      4 1948-04-01       102831\n",
       "296  1948        May      5 1948-05-01       102923"
      ]
     },
     "execution_count": 14,
     "metadata": {},
     "output_type": "execute_result"
    }
   ],
   "source": [
    "civilian_pop_tall.head()"
   ]
  },
  {
   "cell_type": "code",
   "execution_count": null,
   "metadata": {},
   "outputs": [],
   "source": []
  },
  {
   "cell_type": "markdown",
   "metadata": {},
   "source": [
    "### Read-in and format Employment Level"
   ]
  },
  {
   "cell_type": "code",
   "execution_count": 15,
   "metadata": {},
   "outputs": [],
   "source": [
    "employment_level=pd.read_csv('../data/bls/employment_level_LNU02000000.csv')"
   ]
  },
  {
   "cell_type": "code",
   "execution_count": 16,
   "metadata": {
    "scrolled": true
   },
   "outputs": [
    {
     "data": {
      "text/html": [
       "<div>\n",
       "<style scoped>\n",
       "    .dataframe tbody tr th:only-of-type {\n",
       "        vertical-align: middle;\n",
       "    }\n",
       "\n",
       "    .dataframe tbody tr th {\n",
       "        vertical-align: top;\n",
       "    }\n",
       "\n",
       "    .dataframe thead th {\n",
       "        text-align: right;\n",
       "    }\n",
       "</style>\n",
       "<table border=\"1\" class=\"dataframe\">\n",
       "  <thead>\n",
       "    <tr style=\"text-align: right;\">\n",
       "      <th></th>\n",
       "      <th>Year</th>\n",
       "      <th>Jan</th>\n",
       "      <th>Feb</th>\n",
       "      <th>Mar</th>\n",
       "      <th>Apr</th>\n",
       "      <th>May</th>\n",
       "      <th>Jun</th>\n",
       "      <th>Jul</th>\n",
       "      <th>Aug</th>\n",
       "      <th>Sep</th>\n",
       "      <th>Oct</th>\n",
       "      <th>Nov</th>\n",
       "      <th>Dec</th>\n",
       "    </tr>\n",
       "  </thead>\n",
       "  <tbody>\n",
       "    <tr>\n",
       "      <th>0</th>\n",
       "      <td>1948</td>\n",
       "      <td>56339</td>\n",
       "      <td>56440</td>\n",
       "      <td>56601</td>\n",
       "      <td>57471</td>\n",
       "      <td>57763</td>\n",
       "      <td>59724</td>\n",
       "      <td>59955</td>\n",
       "      <td>59677</td>\n",
       "      <td>59337</td>\n",
       "      <td>59290</td>\n",
       "      <td>58991</td>\n",
       "      <td>58554</td>\n",
       "    </tr>\n",
       "    <tr>\n",
       "      <th>1</th>\n",
       "      <td>1949</td>\n",
       "      <td>56486</td>\n",
       "      <td>56320</td>\n",
       "      <td>56809</td>\n",
       "      <td>56929</td>\n",
       "      <td>57669</td>\n",
       "      <td>58231</td>\n",
       "      <td>58171</td>\n",
       "      <td>58504</td>\n",
       "      <td>58324</td>\n",
       "      <td>58050</td>\n",
       "      <td>58616</td>\n",
       "      <td>57712</td>\n",
       "    </tr>\n",
       "    <tr>\n",
       "      <th>2</th>\n",
       "      <td>1950</td>\n",
       "      <td>56189</td>\n",
       "      <td>56197</td>\n",
       "      <td>56733</td>\n",
       "      <td>57812</td>\n",
       "      <td>58719</td>\n",
       "      <td>59997</td>\n",
       "      <td>59839</td>\n",
       "      <td>60948</td>\n",
       "      <td>60245</td>\n",
       "      <td>60708</td>\n",
       "      <td>60313</td>\n",
       "      <td>59352</td>\n",
       "    </tr>\n",
       "    <tr>\n",
       "      <th>3</th>\n",
       "      <td>1951</td>\n",
       "      <td>58166</td>\n",
       "      <td>58102</td>\n",
       "      <td>59366</td>\n",
       "      <td>59206</td>\n",
       "      <td>60219</td>\n",
       "      <td>60373</td>\n",
       "      <td>60968</td>\n",
       "      <td>61128</td>\n",
       "      <td>60408</td>\n",
       "      <td>60906</td>\n",
       "      <td>60464</td>\n",
       "      <td>60252</td>\n",
       "    </tr>\n",
       "    <tr>\n",
       "      <th>4</th>\n",
       "      <td>1952</td>\n",
       "      <td>58884</td>\n",
       "      <td>58834</td>\n",
       "      <td>58912</td>\n",
       "      <td>59232</td>\n",
       "      <td>60250</td>\n",
       "      <td>60988</td>\n",
       "      <td>60775</td>\n",
       "      <td>60872</td>\n",
       "      <td>61162</td>\n",
       "      <td>60992</td>\n",
       "      <td>61394</td>\n",
       "      <td>60748</td>\n",
       "    </tr>\n",
       "  </tbody>\n",
       "</table>\n",
       "</div>"
      ],
      "text/plain": [
       "   Year    Jan    Feb    Mar    Apr    May    Jun    Jul    Aug    Sep    Oct  \\\n",
       "0  1948  56339  56440  56601  57471  57763  59724  59955  59677  59337  59290   \n",
       "1  1949  56486  56320  56809  56929  57669  58231  58171  58504  58324  58050   \n",
       "2  1950  56189  56197  56733  57812  58719  59997  59839  60948  60245  60708   \n",
       "3  1951  58166  58102  59366  59206  60219  60373  60968  61128  60408  60906   \n",
       "4  1952  58884  58834  58912  59232  60250  60988  60775  60872  61162  60992   \n",
       "\n",
       "     Nov    Dec  \n",
       "0  58991  58554  \n",
       "1  58616  57712  \n",
       "2  60313  59352  \n",
       "3  60464  60252  \n",
       "4  61394  60748  "
      ]
     },
     "execution_count": 16,
     "metadata": {},
     "output_type": "execute_result"
    }
   ],
   "source": [
    "employment_level.head()"
   ]
  },
  {
   "cell_type": "code",
   "execution_count": 17,
   "metadata": {
    "scrolled": false
   },
   "outputs": [
    {
     "data": {
      "text/plain": [
       "Index(['Year', 'Jan', 'Feb', 'Mar', 'Apr', 'May', 'Jun', 'Jul', 'Aug', 'Sep',\n",
       "       'Oct', 'Nov', 'Dec'],\n",
       "      dtype='object')"
      ]
     },
     "execution_count": 17,
     "metadata": {},
     "output_type": "execute_result"
    }
   ],
   "source": [
    "employment_level.columns"
   ]
  },
  {
   "cell_type": "code",
   "execution_count": 18,
   "metadata": {
    "scrolled": false
   },
   "outputs": [
    {
     "data": {
      "text/plain": [
       "Year    0\n",
       "Jan     0\n",
       "Feb     0\n",
       "Mar     0\n",
       "Apr     0\n",
       "May     0\n",
       "Jun     0\n",
       "Jul     0\n",
       "Aug     0\n",
       "Sep     0\n",
       "Oct     0\n",
       "Nov     0\n",
       "Dec     0\n",
       "dtype: int64"
      ]
     },
     "execution_count": 18,
     "metadata": {},
     "output_type": "execute_result"
    }
   ],
   "source": [
    "employment_level.isnull().sum()"
   ]
  },
  {
   "cell_type": "code",
   "execution_count": 19,
   "metadata": {},
   "outputs": [],
   "source": [
    "employment_level_tall = employment_level.melt(id_vars = ['Year'], value_vars=['Jan', 'Feb', 'Mar','Apr','May','Jun','Jul','Aug','Sep','Oct','Nov','Dec'], var_name=['month_name'], value_name='employment_level')"
   ]
  },
  {
   "cell_type": "code",
   "execution_count": 20,
   "metadata": {},
   "outputs": [],
   "source": [
    "employment_level_tall=employment_level_tall.rename(columns={'Year':'year'})"
   ]
  },
  {
   "cell_type": "code",
   "execution_count": 21,
   "metadata": {
    "scrolled": true
   },
   "outputs": [
    {
     "data": {
      "text/html": [
       "<div>\n",
       "<style scoped>\n",
       "    .dataframe tbody tr th:only-of-type {\n",
       "        vertical-align: middle;\n",
       "    }\n",
       "\n",
       "    .dataframe tbody tr th {\n",
       "        vertical-align: top;\n",
       "    }\n",
       "\n",
       "    .dataframe thead th {\n",
       "        text-align: right;\n",
       "    }\n",
       "</style>\n",
       "<table border=\"1\" class=\"dataframe\">\n",
       "  <thead>\n",
       "    <tr style=\"text-align: right;\">\n",
       "      <th></th>\n",
       "      <th>year</th>\n",
       "      <th>month_name</th>\n",
       "      <th>employment_level</th>\n",
       "    </tr>\n",
       "  </thead>\n",
       "  <tbody>\n",
       "    <tr>\n",
       "      <th>0</th>\n",
       "      <td>1948</td>\n",
       "      <td>Jan</td>\n",
       "      <td>56339</td>\n",
       "    </tr>\n",
       "    <tr>\n",
       "      <th>1</th>\n",
       "      <td>1949</td>\n",
       "      <td>Jan</td>\n",
       "      <td>56486</td>\n",
       "    </tr>\n",
       "    <tr>\n",
       "      <th>2</th>\n",
       "      <td>1950</td>\n",
       "      <td>Jan</td>\n",
       "      <td>56189</td>\n",
       "    </tr>\n",
       "    <tr>\n",
       "      <th>3</th>\n",
       "      <td>1951</td>\n",
       "      <td>Jan</td>\n",
       "      <td>58166</td>\n",
       "    </tr>\n",
       "    <tr>\n",
       "      <th>4</th>\n",
       "      <td>1952</td>\n",
       "      <td>Jan</td>\n",
       "      <td>58884</td>\n",
       "    </tr>\n",
       "  </tbody>\n",
       "</table>\n",
       "</div>"
      ],
      "text/plain": [
       "   year month_name employment_level\n",
       "0  1948        Jan            56339\n",
       "1  1949        Jan            56486\n",
       "2  1950        Jan            56189\n",
       "3  1951        Jan            58166\n",
       "4  1952        Jan            58884"
      ]
     },
     "execution_count": 21,
     "metadata": {},
     "output_type": "execute_result"
    }
   ],
   "source": [
    "employment_level_tall.head()"
   ]
  },
  {
   "cell_type": "code",
   "execution_count": 22,
   "metadata": {},
   "outputs": [],
   "source": [
    "def month_number(counter):\n",
    "    if (counter['month_name'] == 'Jan'):\n",
    "        return 1\n",
    "    elif (counter['month_name'] == 'Feb'):\n",
    "        return 2\n",
    "    elif (counter['month_name'] == 'Mar'):\n",
    "        return 3\n",
    "    elif (counter['month_name'] == 'Apr'):\n",
    "        return 4\n",
    "    elif (counter['month_name'] == 'May'):\n",
    "        return 5\n",
    "    elif (counter['month_name'] == 'Jun'):\n",
    "        return 6\n",
    "    elif (counter['month_name'] == 'Jul'):\n",
    "        return 7\n",
    "    elif (counter['month_name'] == 'Aug'):\n",
    "        return 8\n",
    "    elif (counter['month_name'] == 'Sep'):\n",
    "        return 9\n",
    "    elif (counter['month_name'] == 'Oct'):\n",
    "        return 10\n",
    "    elif (counter['month_name'] == 'Nov'):\n",
    "        return 11\n",
    "    elif (counter['month_name'] == 'Dec'):\n",
    "        return 12\n",
    "    else:\n",
    "        return 'adjust'\n",
    "employment_level_tall[\"month\"] = employment_level_tall.apply(month_number, axis=1)"
   ]
  },
  {
   "cell_type": "code",
   "execution_count": 23,
   "metadata": {
    "scrolled": false
   },
   "outputs": [
    {
     "data": {
      "text/html": [
       "<div>\n",
       "<style scoped>\n",
       "    .dataframe tbody tr th:only-of-type {\n",
       "        vertical-align: middle;\n",
       "    }\n",
       "\n",
       "    .dataframe tbody tr th {\n",
       "        vertical-align: top;\n",
       "    }\n",
       "\n",
       "    .dataframe thead th {\n",
       "        text-align: right;\n",
       "    }\n",
       "</style>\n",
       "<table border=\"1\" class=\"dataframe\">\n",
       "  <thead>\n",
       "    <tr style=\"text-align: right;\">\n",
       "      <th></th>\n",
       "      <th>year</th>\n",
       "      <th>month_name</th>\n",
       "      <th>employment_level</th>\n",
       "      <th>month</th>\n",
       "    </tr>\n",
       "  </thead>\n",
       "  <tbody>\n",
       "    <tr>\n",
       "      <th>0</th>\n",
       "      <td>1948</td>\n",
       "      <td>Jan</td>\n",
       "      <td>56339</td>\n",
       "      <td>1</td>\n",
       "    </tr>\n",
       "    <tr>\n",
       "      <th>1</th>\n",
       "      <td>1949</td>\n",
       "      <td>Jan</td>\n",
       "      <td>56486</td>\n",
       "      <td>1</td>\n",
       "    </tr>\n",
       "    <tr>\n",
       "      <th>2</th>\n",
       "      <td>1950</td>\n",
       "      <td>Jan</td>\n",
       "      <td>56189</td>\n",
       "      <td>1</td>\n",
       "    </tr>\n",
       "    <tr>\n",
       "      <th>3</th>\n",
       "      <td>1951</td>\n",
       "      <td>Jan</td>\n",
       "      <td>58166</td>\n",
       "      <td>1</td>\n",
       "    </tr>\n",
       "    <tr>\n",
       "      <th>4</th>\n",
       "      <td>1952</td>\n",
       "      <td>Jan</td>\n",
       "      <td>58884</td>\n",
       "      <td>1</td>\n",
       "    </tr>\n",
       "  </tbody>\n",
       "</table>\n",
       "</div>"
      ],
      "text/plain": [
       "   year month_name employment_level  month\n",
       "0  1948        Jan            56339      1\n",
       "1  1949        Jan            56486      1\n",
       "2  1950        Jan            56189      1\n",
       "3  1951        Jan            58166      1\n",
       "4  1952        Jan            58884      1"
      ]
     },
     "execution_count": 23,
     "metadata": {},
     "output_type": "execute_result"
    }
   ],
   "source": [
    "employment_level_tall.head()"
   ]
  },
  {
   "cell_type": "code",
   "execution_count": 24,
   "metadata": {},
   "outputs": [],
   "source": [
    "employment_level_tall['date'] = pd.to_datetime(employment_level_tall[['year', 'month']].assign(day=1))\n"
   ]
  },
  {
   "cell_type": "code",
   "execution_count": 25,
   "metadata": {},
   "outputs": [],
   "source": [
    "employment_level_tall = employment_level_tall.sort_values('date')"
   ]
  },
  {
   "cell_type": "code",
   "execution_count": 26,
   "metadata": {
    "scrolled": false
   },
   "outputs": [
    {
     "data": {
      "text/html": [
       "<div>\n",
       "<style scoped>\n",
       "    .dataframe tbody tr th:only-of-type {\n",
       "        vertical-align: middle;\n",
       "    }\n",
       "\n",
       "    .dataframe tbody tr th {\n",
       "        vertical-align: top;\n",
       "    }\n",
       "\n",
       "    .dataframe thead th {\n",
       "        text-align: right;\n",
       "    }\n",
       "</style>\n",
       "<table border=\"1\" class=\"dataframe\">\n",
       "  <thead>\n",
       "    <tr style=\"text-align: right;\">\n",
       "      <th></th>\n",
       "      <th>year</th>\n",
       "      <th>month_name</th>\n",
       "      <th>employment_level</th>\n",
       "      <th>month</th>\n",
       "      <th>date</th>\n",
       "    </tr>\n",
       "  </thead>\n",
       "  <tbody>\n",
       "    <tr>\n",
       "      <th>0</th>\n",
       "      <td>1948</td>\n",
       "      <td>Jan</td>\n",
       "      <td>56339</td>\n",
       "      <td>1</td>\n",
       "      <td>1948-01-01</td>\n",
       "    </tr>\n",
       "    <tr>\n",
       "      <th>74</th>\n",
       "      <td>1948</td>\n",
       "      <td>Feb</td>\n",
       "      <td>56440</td>\n",
       "      <td>2</td>\n",
       "      <td>1948-02-01</td>\n",
       "    </tr>\n",
       "    <tr>\n",
       "      <th>148</th>\n",
       "      <td>1948</td>\n",
       "      <td>Mar</td>\n",
       "      <td>56601</td>\n",
       "      <td>3</td>\n",
       "      <td>1948-03-01</td>\n",
       "    </tr>\n",
       "    <tr>\n",
       "      <th>222</th>\n",
       "      <td>1948</td>\n",
       "      <td>Apr</td>\n",
       "      <td>57471</td>\n",
       "      <td>4</td>\n",
       "      <td>1948-04-01</td>\n",
       "    </tr>\n",
       "    <tr>\n",
       "      <th>296</th>\n",
       "      <td>1948</td>\n",
       "      <td>May</td>\n",
       "      <td>57763</td>\n",
       "      <td>5</td>\n",
       "      <td>1948-05-01</td>\n",
       "    </tr>\n",
       "  </tbody>\n",
       "</table>\n",
       "</div>"
      ],
      "text/plain": [
       "     year month_name employment_level  month       date\n",
       "0    1948        Jan            56339      1 1948-01-01\n",
       "74   1948        Feb            56440      2 1948-02-01\n",
       "148  1948        Mar            56601      3 1948-03-01\n",
       "222  1948        Apr            57471      4 1948-04-01\n",
       "296  1948        May            57763      5 1948-05-01"
      ]
     },
     "execution_count": 26,
     "metadata": {},
     "output_type": "execute_result"
    }
   ],
   "source": [
    "employment_level_tall.head()"
   ]
  },
  {
   "cell_type": "code",
   "execution_count": null,
   "metadata": {},
   "outputs": [],
   "source": []
  },
  {
   "cell_type": "code",
   "execution_count": null,
   "metadata": {},
   "outputs": [],
   "source": []
  },
  {
   "cell_type": "markdown",
   "metadata": {},
   "source": [
    "### Read-in and format Unemployment Rate"
   ]
  },
  {
   "cell_type": "code",
   "execution_count": 27,
   "metadata": {},
   "outputs": [],
   "source": [
    "unemployment_rate=pd.read_csv('../data/bls/unemployment_rate_LNU04000000.csv')"
   ]
  },
  {
   "cell_type": "code",
   "execution_count": 28,
   "metadata": {
    "scrolled": true
   },
   "outputs": [
    {
     "data": {
      "text/html": [
       "<div>\n",
       "<style scoped>\n",
       "    .dataframe tbody tr th:only-of-type {\n",
       "        vertical-align: middle;\n",
       "    }\n",
       "\n",
       "    .dataframe tbody tr th {\n",
       "        vertical-align: top;\n",
       "    }\n",
       "\n",
       "    .dataframe thead th {\n",
       "        text-align: right;\n",
       "    }\n",
       "</style>\n",
       "<table border=\"1\" class=\"dataframe\">\n",
       "  <thead>\n",
       "    <tr style=\"text-align: right;\">\n",
       "      <th></th>\n",
       "      <th>Year</th>\n",
       "      <th>Jan</th>\n",
       "      <th>Feb</th>\n",
       "      <th>Mar</th>\n",
       "      <th>Apr</th>\n",
       "      <th>May</th>\n",
       "      <th>Jun</th>\n",
       "      <th>Jul</th>\n",
       "      <th>Aug</th>\n",
       "      <th>Sep</th>\n",
       "      <th>Oct</th>\n",
       "      <th>Nov</th>\n",
       "      <th>Dec</th>\n",
       "    </tr>\n",
       "  </thead>\n",
       "  <tbody>\n",
       "    <tr>\n",
       "      <th>0</th>\n",
       "      <td>1948</td>\n",
       "      <td>4.0</td>\n",
       "      <td>4.7</td>\n",
       "      <td>4.5</td>\n",
       "      <td>4</td>\n",
       "      <td>3.4</td>\n",
       "      <td>3.9</td>\n",
       "      <td>3.9</td>\n",
       "      <td>3.6</td>\n",
       "      <td>3.4</td>\n",
       "      <td>2.9</td>\n",
       "      <td>3.3</td>\n",
       "      <td>3.6</td>\n",
       "    </tr>\n",
       "    <tr>\n",
       "      <th>1</th>\n",
       "      <td>1949</td>\n",
       "      <td>5.0</td>\n",
       "      <td>5.8</td>\n",
       "      <td>5.6</td>\n",
       "      <td>5.4</td>\n",
       "      <td>5.7</td>\n",
       "      <td>6.4</td>\n",
       "      <td>7</td>\n",
       "      <td>6.3</td>\n",
       "      <td>5.9</td>\n",
       "      <td>6.1</td>\n",
       "      <td>5.7</td>\n",
       "      <td>6</td>\n",
       "    </tr>\n",
       "    <tr>\n",
       "      <th>2</th>\n",
       "      <td>1950</td>\n",
       "      <td>7.6</td>\n",
       "      <td>7.9</td>\n",
       "      <td>7.1</td>\n",
       "      <td>6</td>\n",
       "      <td>5.3</td>\n",
       "      <td>5.6</td>\n",
       "      <td>5.3</td>\n",
       "      <td>4.1</td>\n",
       "      <td>4</td>\n",
       "      <td>3.3</td>\n",
       "      <td>3.8</td>\n",
       "      <td>3.9</td>\n",
       "    </tr>\n",
       "    <tr>\n",
       "      <th>3</th>\n",
       "      <td>1951</td>\n",
       "      <td>4.4</td>\n",
       "      <td>4.2</td>\n",
       "      <td>3.8</td>\n",
       "      <td>3.2</td>\n",
       "      <td>2.9</td>\n",
       "      <td>3.4</td>\n",
       "      <td>3.3</td>\n",
       "      <td>2.9</td>\n",
       "      <td>3</td>\n",
       "      <td>2.8</td>\n",
       "      <td>3.2</td>\n",
       "      <td>2.9</td>\n",
       "    </tr>\n",
       "    <tr>\n",
       "      <th>4</th>\n",
       "      <td>1952</td>\n",
       "      <td>3.7</td>\n",
       "      <td>3.8</td>\n",
       "      <td>3.3</td>\n",
       "      <td>3</td>\n",
       "      <td>2.9</td>\n",
       "      <td>3.2</td>\n",
       "      <td>3.3</td>\n",
       "      <td>3.1</td>\n",
       "      <td>2.7</td>\n",
       "      <td>2.4</td>\n",
       "      <td>2.5</td>\n",
       "      <td>2.5</td>\n",
       "    </tr>\n",
       "  </tbody>\n",
       "</table>\n",
       "</div>"
      ],
      "text/plain": [
       "   Year  Jan  Feb  Mar  Apr  May  Jun  Jul  Aug  Sep  Oct  Nov  Dec\n",
       "0  1948  4.0  4.7  4.5    4  3.4  3.9  3.9  3.6  3.4  2.9  3.3  3.6\n",
       "1  1949  5.0  5.8  5.6  5.4  5.7  6.4    7  6.3  5.9  6.1  5.7    6\n",
       "2  1950  7.6  7.9  7.1    6  5.3  5.6  5.3  4.1    4  3.3  3.8  3.9\n",
       "3  1951  4.4  4.2  3.8  3.2  2.9  3.4  3.3  2.9    3  2.8  3.2  2.9\n",
       "4  1952  3.7  3.8  3.3    3  2.9  3.2  3.3  3.1  2.7  2.4  2.5  2.5"
      ]
     },
     "execution_count": 28,
     "metadata": {},
     "output_type": "execute_result"
    }
   ],
   "source": [
    "unemployment_rate.head()"
   ]
  },
  {
   "cell_type": "code",
   "execution_count": 29,
   "metadata": {
    "scrolled": false
   },
   "outputs": [
    {
     "data": {
      "text/plain": [
       "Index(['Year', 'Jan', 'Feb', 'Mar', 'Apr', 'May', 'Jun', 'Jul', 'Aug', 'Sep',\n",
       "       'Oct', 'Nov', 'Dec'],\n",
       "      dtype='object')"
      ]
     },
     "execution_count": 29,
     "metadata": {},
     "output_type": "execute_result"
    }
   ],
   "source": [
    "unemployment_rate.columns"
   ]
  },
  {
   "cell_type": "code",
   "execution_count": 30,
   "metadata": {
    "scrolled": false
   },
   "outputs": [
    {
     "data": {
      "text/plain": [
       "Year    0\n",
       "Jan     0\n",
       "Feb     0\n",
       "Mar     0\n",
       "Apr     0\n",
       "May     0\n",
       "Jun     0\n",
       "Jul     0\n",
       "Aug     0\n",
       "Sep     0\n",
       "Oct     0\n",
       "Nov     0\n",
       "Dec     0\n",
       "dtype: int64"
      ]
     },
     "execution_count": 30,
     "metadata": {},
     "output_type": "execute_result"
    }
   ],
   "source": [
    "unemployment_rate.isnull().sum()"
   ]
  },
  {
   "cell_type": "code",
   "execution_count": 31,
   "metadata": {},
   "outputs": [],
   "source": [
    "unemployment_rate_tall = unemployment_rate.melt(id_vars = ['Year'], value_vars=['Jan', 'Feb', 'Mar','Apr','May','Jun','Jul','Aug','Sep','Oct','Nov','Dec'], var_name=['month_name'], value_name='unemployment_rate')"
   ]
  },
  {
   "cell_type": "code",
   "execution_count": 32,
   "metadata": {},
   "outputs": [],
   "source": [
    "unemployment_rate_tall=unemployment_rate_tall.rename(columns={'Year':'year'})"
   ]
  },
  {
   "cell_type": "code",
   "execution_count": 33,
   "metadata": {
    "scrolled": true
   },
   "outputs": [
    {
     "data": {
      "text/html": [
       "<div>\n",
       "<style scoped>\n",
       "    .dataframe tbody tr th:only-of-type {\n",
       "        vertical-align: middle;\n",
       "    }\n",
       "\n",
       "    .dataframe tbody tr th {\n",
       "        vertical-align: top;\n",
       "    }\n",
       "\n",
       "    .dataframe thead th {\n",
       "        text-align: right;\n",
       "    }\n",
       "</style>\n",
       "<table border=\"1\" class=\"dataframe\">\n",
       "  <thead>\n",
       "    <tr style=\"text-align: right;\">\n",
       "      <th></th>\n",
       "      <th>year</th>\n",
       "      <th>month_name</th>\n",
       "      <th>unemployment_rate</th>\n",
       "    </tr>\n",
       "  </thead>\n",
       "  <tbody>\n",
       "    <tr>\n",
       "      <th>0</th>\n",
       "      <td>1948</td>\n",
       "      <td>Jan</td>\n",
       "      <td>4</td>\n",
       "    </tr>\n",
       "    <tr>\n",
       "      <th>1</th>\n",
       "      <td>1949</td>\n",
       "      <td>Jan</td>\n",
       "      <td>5</td>\n",
       "    </tr>\n",
       "    <tr>\n",
       "      <th>2</th>\n",
       "      <td>1950</td>\n",
       "      <td>Jan</td>\n",
       "      <td>7.6</td>\n",
       "    </tr>\n",
       "    <tr>\n",
       "      <th>3</th>\n",
       "      <td>1951</td>\n",
       "      <td>Jan</td>\n",
       "      <td>4.4</td>\n",
       "    </tr>\n",
       "    <tr>\n",
       "      <th>4</th>\n",
       "      <td>1952</td>\n",
       "      <td>Jan</td>\n",
       "      <td>3.7</td>\n",
       "    </tr>\n",
       "  </tbody>\n",
       "</table>\n",
       "</div>"
      ],
      "text/plain": [
       "   year month_name unemployment_rate\n",
       "0  1948        Jan                 4\n",
       "1  1949        Jan                 5\n",
       "2  1950        Jan               7.6\n",
       "3  1951        Jan               4.4\n",
       "4  1952        Jan               3.7"
      ]
     },
     "execution_count": 33,
     "metadata": {},
     "output_type": "execute_result"
    }
   ],
   "source": [
    "unemployment_rate_tall.head()"
   ]
  },
  {
   "cell_type": "code",
   "execution_count": 34,
   "metadata": {},
   "outputs": [],
   "source": [
    "def month_number(counter):\n",
    "    if (counter['month_name'] == 'Jan'):\n",
    "        return 1\n",
    "    elif (counter['month_name'] == 'Feb'):\n",
    "        return 2\n",
    "    elif (counter['month_name'] == 'Mar'):\n",
    "        return 3\n",
    "    elif (counter['month_name'] == 'Apr'):\n",
    "        return 4\n",
    "    elif (counter['month_name'] == 'May'):\n",
    "        return 5\n",
    "    elif (counter['month_name'] == 'Jun'):\n",
    "        return 6\n",
    "    elif (counter['month_name'] == 'Jul'):\n",
    "        return 7\n",
    "    elif (counter['month_name'] == 'Aug'):\n",
    "        return 8\n",
    "    elif (counter['month_name'] == 'Sep'):\n",
    "        return 9\n",
    "    elif (counter['month_name'] == 'Oct'):\n",
    "        return 10\n",
    "    elif (counter['month_name'] == 'Nov'):\n",
    "        return 11\n",
    "    elif (counter['month_name'] == 'Dec'):\n",
    "        return 12\n",
    "    else:\n",
    "        return 'adjust'\n",
    "unemployment_rate_tall[\"month\"] = unemployment_rate_tall.apply(month_number, axis=1)"
   ]
  },
  {
   "cell_type": "code",
   "execution_count": 35,
   "metadata": {
    "scrolled": false
   },
   "outputs": [
    {
     "data": {
      "text/html": [
       "<div>\n",
       "<style scoped>\n",
       "    .dataframe tbody tr th:only-of-type {\n",
       "        vertical-align: middle;\n",
       "    }\n",
       "\n",
       "    .dataframe tbody tr th {\n",
       "        vertical-align: top;\n",
       "    }\n",
       "\n",
       "    .dataframe thead th {\n",
       "        text-align: right;\n",
       "    }\n",
       "</style>\n",
       "<table border=\"1\" class=\"dataframe\">\n",
       "  <thead>\n",
       "    <tr style=\"text-align: right;\">\n",
       "      <th></th>\n",
       "      <th>year</th>\n",
       "      <th>month_name</th>\n",
       "      <th>unemployment_rate</th>\n",
       "      <th>month</th>\n",
       "    </tr>\n",
       "  </thead>\n",
       "  <tbody>\n",
       "    <tr>\n",
       "      <th>0</th>\n",
       "      <td>1948</td>\n",
       "      <td>Jan</td>\n",
       "      <td>4</td>\n",
       "      <td>1</td>\n",
       "    </tr>\n",
       "    <tr>\n",
       "      <th>1</th>\n",
       "      <td>1949</td>\n",
       "      <td>Jan</td>\n",
       "      <td>5</td>\n",
       "      <td>1</td>\n",
       "    </tr>\n",
       "    <tr>\n",
       "      <th>2</th>\n",
       "      <td>1950</td>\n",
       "      <td>Jan</td>\n",
       "      <td>7.6</td>\n",
       "      <td>1</td>\n",
       "    </tr>\n",
       "    <tr>\n",
       "      <th>3</th>\n",
       "      <td>1951</td>\n",
       "      <td>Jan</td>\n",
       "      <td>4.4</td>\n",
       "      <td>1</td>\n",
       "    </tr>\n",
       "    <tr>\n",
       "      <th>4</th>\n",
       "      <td>1952</td>\n",
       "      <td>Jan</td>\n",
       "      <td>3.7</td>\n",
       "      <td>1</td>\n",
       "    </tr>\n",
       "  </tbody>\n",
       "</table>\n",
       "</div>"
      ],
      "text/plain": [
       "   year month_name unemployment_rate  month\n",
       "0  1948        Jan                 4      1\n",
       "1  1949        Jan                 5      1\n",
       "2  1950        Jan               7.6      1\n",
       "3  1951        Jan               4.4      1\n",
       "4  1952        Jan               3.7      1"
      ]
     },
     "execution_count": 35,
     "metadata": {},
     "output_type": "execute_result"
    }
   ],
   "source": [
    "unemployment_rate_tall.head()"
   ]
  },
  {
   "cell_type": "code",
   "execution_count": 36,
   "metadata": {},
   "outputs": [],
   "source": [
    "unemployment_rate_tall['date'] = pd.to_datetime(unemployment_rate_tall[['year', 'month']].assign(day=1))\n"
   ]
  },
  {
   "cell_type": "code",
   "execution_count": 37,
   "metadata": {},
   "outputs": [],
   "source": [
    "unemployment_rate_tall = unemployment_rate_tall.sort_values('date')"
   ]
  },
  {
   "cell_type": "code",
   "execution_count": 38,
   "metadata": {
    "scrolled": false
   },
   "outputs": [
    {
     "data": {
      "text/html": [
       "<div>\n",
       "<style scoped>\n",
       "    .dataframe tbody tr th:only-of-type {\n",
       "        vertical-align: middle;\n",
       "    }\n",
       "\n",
       "    .dataframe tbody tr th {\n",
       "        vertical-align: top;\n",
       "    }\n",
       "\n",
       "    .dataframe thead th {\n",
       "        text-align: right;\n",
       "    }\n",
       "</style>\n",
       "<table border=\"1\" class=\"dataframe\">\n",
       "  <thead>\n",
       "    <tr style=\"text-align: right;\">\n",
       "      <th></th>\n",
       "      <th>year</th>\n",
       "      <th>month_name</th>\n",
       "      <th>unemployment_rate</th>\n",
       "      <th>month</th>\n",
       "      <th>date</th>\n",
       "    </tr>\n",
       "  </thead>\n",
       "  <tbody>\n",
       "    <tr>\n",
       "      <th>0</th>\n",
       "      <td>1948</td>\n",
       "      <td>Jan</td>\n",
       "      <td>4</td>\n",
       "      <td>1</td>\n",
       "      <td>1948-01-01</td>\n",
       "    </tr>\n",
       "    <tr>\n",
       "      <th>74</th>\n",
       "      <td>1948</td>\n",
       "      <td>Feb</td>\n",
       "      <td>4.7</td>\n",
       "      <td>2</td>\n",
       "      <td>1948-02-01</td>\n",
       "    </tr>\n",
       "    <tr>\n",
       "      <th>148</th>\n",
       "      <td>1948</td>\n",
       "      <td>Mar</td>\n",
       "      <td>4.5</td>\n",
       "      <td>3</td>\n",
       "      <td>1948-03-01</td>\n",
       "    </tr>\n",
       "    <tr>\n",
       "      <th>222</th>\n",
       "      <td>1948</td>\n",
       "      <td>Apr</td>\n",
       "      <td>4</td>\n",
       "      <td>4</td>\n",
       "      <td>1948-04-01</td>\n",
       "    </tr>\n",
       "    <tr>\n",
       "      <th>296</th>\n",
       "      <td>1948</td>\n",
       "      <td>May</td>\n",
       "      <td>3.4</td>\n",
       "      <td>5</td>\n",
       "      <td>1948-05-01</td>\n",
       "    </tr>\n",
       "  </tbody>\n",
       "</table>\n",
       "</div>"
      ],
      "text/plain": [
       "     year month_name unemployment_rate  month       date\n",
       "0    1948        Jan                 4      1 1948-01-01\n",
       "74   1948        Feb               4.7      2 1948-02-01\n",
       "148  1948        Mar               4.5      3 1948-03-01\n",
       "222  1948        Apr                 4      4 1948-04-01\n",
       "296  1948        May               3.4      5 1948-05-01"
      ]
     },
     "execution_count": 38,
     "metadata": {},
     "output_type": "execute_result"
    }
   ],
   "source": [
    "unemployment_rate_tall.head()"
   ]
  },
  {
   "cell_type": "markdown",
   "metadata": {},
   "source": [
    "#### Merging data"
   ]
  },
  {
   "cell_type": "code",
   "execution_count": 39,
   "metadata": {},
   "outputs": [],
   "source": [
    "data_combined2 = pd.merge(civilian_pop_tall,employment_level_tall[['date','employment_level']],on='date', how='left')"
   ]
  },
  {
   "cell_type": "code",
   "execution_count": 40,
   "metadata": {},
   "outputs": [],
   "source": [
    "data_combined3 = pd.merge(data_combined2,unemployment_rate_tall[['date','unemployment_rate']],on='date', how='left')"
   ]
  },
  {
   "cell_type": "code",
   "execution_count": 41,
   "metadata": {},
   "outputs": [
    {
     "data": {
      "text/html": [
       "<div>\n",
       "<style scoped>\n",
       "    .dataframe tbody tr th:only-of-type {\n",
       "        vertical-align: middle;\n",
       "    }\n",
       "\n",
       "    .dataframe tbody tr th {\n",
       "        vertical-align: top;\n",
       "    }\n",
       "\n",
       "    .dataframe thead th {\n",
       "        text-align: right;\n",
       "    }\n",
       "</style>\n",
       "<table border=\"1\" class=\"dataframe\">\n",
       "  <thead>\n",
       "    <tr style=\"text-align: right;\">\n",
       "      <th></th>\n",
       "      <th>year</th>\n",
       "      <th>month_name</th>\n",
       "      <th>month</th>\n",
       "      <th>date</th>\n",
       "      <th>civilian_pop</th>\n",
       "      <th>employment_level</th>\n",
       "      <th>unemployment_rate</th>\n",
       "    </tr>\n",
       "  </thead>\n",
       "  <tbody>\n",
       "    <tr>\n",
       "      <th>0</th>\n",
       "      <td>1948</td>\n",
       "      <td>Jan</td>\n",
       "      <td>1</td>\n",
       "      <td>1948-01-01</td>\n",
       "      <td>102603</td>\n",
       "      <td>56339</td>\n",
       "      <td>4</td>\n",
       "    </tr>\n",
       "    <tr>\n",
       "      <th>1</th>\n",
       "      <td>1948</td>\n",
       "      <td>Feb</td>\n",
       "      <td>2</td>\n",
       "      <td>1948-02-01</td>\n",
       "      <td>102698</td>\n",
       "      <td>56440</td>\n",
       "      <td>4.7</td>\n",
       "    </tr>\n",
       "    <tr>\n",
       "      <th>2</th>\n",
       "      <td>1948</td>\n",
       "      <td>Mar</td>\n",
       "      <td>3</td>\n",
       "      <td>1948-03-01</td>\n",
       "      <td>102771</td>\n",
       "      <td>56601</td>\n",
       "      <td>4.5</td>\n",
       "    </tr>\n",
       "    <tr>\n",
       "      <th>3</th>\n",
       "      <td>1948</td>\n",
       "      <td>Apr</td>\n",
       "      <td>4</td>\n",
       "      <td>1948-04-01</td>\n",
       "      <td>102831</td>\n",
       "      <td>57471</td>\n",
       "      <td>4</td>\n",
       "    </tr>\n",
       "    <tr>\n",
       "      <th>4</th>\n",
       "      <td>1948</td>\n",
       "      <td>May</td>\n",
       "      <td>5</td>\n",
       "      <td>1948-05-01</td>\n",
       "      <td>102923</td>\n",
       "      <td>57763</td>\n",
       "      <td>3.4</td>\n",
       "    </tr>\n",
       "  </tbody>\n",
       "</table>\n",
       "</div>"
      ],
      "text/plain": [
       "   year month_name  month       date civilian_pop employment_level  \\\n",
       "0  1948        Jan      1 1948-01-01       102603            56339   \n",
       "1  1948        Feb      2 1948-02-01       102698            56440   \n",
       "2  1948        Mar      3 1948-03-01       102771            56601   \n",
       "3  1948        Apr      4 1948-04-01       102831            57471   \n",
       "4  1948        May      5 1948-05-01       102923            57763   \n",
       "\n",
       "  unemployment_rate  \n",
       "0                 4  \n",
       "1               4.7  \n",
       "2               4.5  \n",
       "3                 4  \n",
       "4               3.4  "
      ]
     },
     "execution_count": 41,
     "metadata": {},
     "output_type": "execute_result"
    }
   ],
   "source": [
    "data_combined3.head()"
   ]
  },
  {
   "cell_type": "code",
   "execution_count": null,
   "metadata": {},
   "outputs": [],
   "source": []
  },
  {
   "cell_type": "code",
   "execution_count": null,
   "metadata": {},
   "outputs": [],
   "source": []
  }
 ],
 "metadata": {
  "kernelspec": {
   "display_name": "Python 3",
   "language": "python",
   "name": "python3"
  },
  "language_info": {
   "codemirror_mode": {
    "name": "ipython",
    "version": 3
   },
   "file_extension": ".py",
   "mimetype": "text/x-python",
   "name": "python",
   "nbconvert_exporter": "python",
   "pygments_lexer": "ipython3",
   "version": "3.8.5"
  }
 },
 "nbformat": 4,
 "nbformat_minor": 4
}
