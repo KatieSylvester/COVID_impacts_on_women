{
 "cells": [
  {
   "cell_type": "code",
   "execution_count": 3,
   "metadata": {},
   "outputs": [],
   "source": [
    "import requests\n",
    "import json\n",
    "import prettytable"
   ]
  },
  {
   "cell_type": "code",
   "execution_count": 9,
   "metadata": {},
   "outputs": [],
   "source": [
    "\n",
    "headers = {'Content-type': 'application/json'}\n",
    "data = json.dumps({\"seriesid\": ['CEU0800000003'],\"startyear\":\"2018\", \"endyear\":\"2020\"})\n",
    "p = requests.post('https://api.bls.gov/publicAPI/v2/timeseries/data/', data=data, headers=headers)\n",
    "json_data = json.loads(p.text)\n",
    "for series in json_data['Results']['series']:\n",
    "    x=prettytable.PrettyTable([\"series id\",\"year\",\"period\",\"value\",\"footnotes\"])\n",
    "    seriesId = series['seriesID']\n",
    "    for item in series['data']:\n",
    "        year = item['year']\n",
    "        period = item['period']\n",
    "        value = item['value']\n",
    "        footnotes=\"\"\n",
    "        for footnote in item['footnotes']:\n",
    "            if footnote:\n",
    "                footnotes = footnotes + footnote['text'] + ','\n",
    "        if 'M01' <= period <= 'M12':\n",
    "            x.add_row([seriesId,year,period,value,footnotes[0:-1]])\n",
    "    output = open(seriesId + '.txt','w')\n",
    "    output.write (x.get_string())\n",
    "    output.close()"
   ]
  },
  {
   "cell_type": "code",
   "execution_count": 10,
   "metadata": {},
   "outputs": [
    {
     "name": "stdout",
     "output_type": "stream",
     "text": [
      "{\"seriesid\": [\"CEU0800000003\"], \"startyear\": \"2018\", \"endyear\": \"2020\"}\n"
     ]
    }
   ],
   "source": [
    "print(data)"
   ]
  },
  {
   "cell_type": "code",
   "execution_count": null,
   "metadata": {},
   "outputs": [],
   "source": []
  }
 ],
 "metadata": {
  "kernelspec": {
   "display_name": "Python 3",
   "language": "python",
   "name": "python3"
  },
  "language_info": {
   "codemirror_mode": {
    "name": "ipython",
    "version": 3
   },
   "file_extension": ".py",
   "mimetype": "text/x-python",
   "name": "python",
   "nbconvert_exporter": "python",
   "pygments_lexer": "ipython3",
   "version": "3.8.5"
  }
 },
 "nbformat": 4,
 "nbformat_minor": 4
}
