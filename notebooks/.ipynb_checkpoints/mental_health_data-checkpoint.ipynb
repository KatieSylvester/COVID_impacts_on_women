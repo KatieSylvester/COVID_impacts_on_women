{
 "cells": [
  {
   "cell_type": "code",
   "execution_count": 1,
   "metadata": {},
   "outputs": [],
   "source": [
    "import requests\n",
    "import json\n",
    "#import prettytable\n",
    "import pandas as pd\n",
    "import matplotlib.pyplot as plt"
   ]
  },
  {
   "cell_type": "code",
   "execution_count": 5,
   "metadata": {},
   "outputs": [],
   "source": [
    "cdi=pd.read_csv('../data/U.S._Chronic_Disease_Indicators__CDI_.csv', low_memory=False)"
   ]
  },
  {
   "cell_type": "code",
   "execution_count": 11,
   "metadata": {},
   "outputs": [],
   "source": [
    "cdi_mh = cdi.loc[cdi['Topic'] == 'Mental Health']"
   ]
  },
  {
   "cell_type": "code",
   "execution_count": 15,
   "metadata": {},
   "outputs": [
    {
     "name": "stdout",
     "output_type": "stream",
     "text": [
      "<class 'pandas.core.frame.DataFrame'>\n",
      "Int64Index: 10810 entries, 280 to 799466\n",
      "Data columns (total 34 columns):\n",
      " #   Column                     Non-Null Count  Dtype  \n",
      "---  ------                     --------------  -----  \n",
      " 0   YearStart                  10810 non-null  int64  \n",
      " 1   YearEnd                    10810 non-null  int64  \n",
      " 2   LocationAbbr               10810 non-null  object \n",
      " 3   LocationDesc               10810 non-null  object \n",
      " 4   DataSource                 10810 non-null  object \n",
      " 5   Topic                      10810 non-null  object \n",
      " 6   Question                   10810 non-null  object \n",
      " 7   Response                   0 non-null      float64\n",
      " 8   DataValueUnit              10810 non-null  object \n",
      " 9   DataValueType              10810 non-null  object \n",
      " 10  DataValue                  8617 non-null   object \n",
      " 11  DataValueAlt               8617 non-null   float64\n",
      " 12  DataValueFootnoteSymbol    2256 non-null   object \n",
      " 13  DatavalueFootnote          2256 non-null   object \n",
      " 14  LowConfidenceLimit         8617 non-null   float64\n",
      " 15  HighConfidenceLimit        8617 non-null   float64\n",
      " 16  StratificationCategory1    10810 non-null  object \n",
      " 17  Stratification1            10810 non-null  object \n",
      " 18  StratificationCategory2    0 non-null      float64\n",
      " 19  Stratification2            0 non-null      float64\n",
      " 20  StratificationCategory3    0 non-null      float64\n",
      " 21  Stratification3            0 non-null      float64\n",
      " 22  GeoLocation                10746 non-null  object \n",
      " 23  ResponseID                 0 non-null      float64\n",
      " 24  LocationID                 10810 non-null  int64  \n",
      " 25  TopicID                    10810 non-null  object \n",
      " 26  QuestionID                 10810 non-null  object \n",
      " 27  DataValueTypeID            10810 non-null  object \n",
      " 28  StratificationCategoryID1  10810 non-null  object \n",
      " 29  StratificationID1          10810 non-null  object \n",
      " 30  StratificationCategoryID2  0 non-null      float64\n",
      " 31  StratificationID2          0 non-null      float64\n",
      " 32  StratificationCategoryID3  0 non-null      float64\n",
      " 33  StratificationID3          0 non-null      float64\n",
      "dtypes: float64(13), int64(3), object(18)\n",
      "memory usage: 2.9+ MB\n"
     ]
    }
   ],
   "source": [
    "cdi_mh.info()"
   ]
  },
  {
   "cell_type": "code",
   "execution_count": 18,
   "metadata": {},
   "outputs": [],
   "source": [
    "cdi_mh = cdi_mh[(cdi_mh['YearStart'].isin(['2019', '2020'])) | (cdi_mh['YearEnd'].isin(['2019', '2020']))]"
   ]
  },
  {
   "cell_type": "code",
   "execution_count": 21,
   "metadata": {},
   "outputs": [],
   "source": [
    "cdi_mh = cdi_mh[(cdi_mh['StratificationID1'].isin(['GENM', 'GENF']))]"
   ]
  },
  {
   "cell_type": "code",
   "execution_count": 26,
   "metadata": {},
   "outputs": [],
   "source": [
    "cdi_mh_grouped = cdi_mh.groupby(['YearStart','StratificationID1'])['Question'].count()"
   ]
  },
  {
   "cell_type": "code",
   "execution_count": 27,
   "metadata": {},
   "outputs": [
    {
     "data": {
      "text/plain": [
       "YearStart  StratificationID1\n",
       "2019       GENF                 110\n",
       "           GENM                 110\n",
       "Name: Question, dtype: int64"
      ]
     },
     "execution_count": 27,
     "metadata": {},
     "output_type": "execute_result"
    }
   ],
   "source": [
    "cdi_mh_grouped"
   ]
  },
  {
   "cell_type": "code",
   "execution_count": null,
   "metadata": {},
   "outputs": [],
   "source": []
  }
 ],
 "metadata": {
  "kernelspec": {
   "display_name": "Python 3",
   "language": "python",
   "name": "python3"
  },
  "language_info": {
   "codemirror_mode": {
    "name": "ipython",
    "version": 3
   },
   "file_extension": ".py",
   "mimetype": "text/x-python",
   "name": "python",
   "nbconvert_exporter": "python",
   "pygments_lexer": "ipython3",
   "version": "3.8.5"
  }
 },
 "nbformat": 4,
 "nbformat_minor": 4
}
